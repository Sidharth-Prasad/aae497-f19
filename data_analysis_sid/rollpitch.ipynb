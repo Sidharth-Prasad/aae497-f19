{
 "cells": [
  {
   "cell_type": "code",
   "execution_count": 1,
   "metadata": {},
   "outputs": [],
   "source": [
    "import casadi as ca\n",
    "import numpy as np\n",
    "import matplotlib.pyplot as plt\n",
    "import control\n",
    "import collections\n",
    "import pandas as pd"
   ]
  },
  {
   "cell_type": "code",
   "execution_count": null,
   "metadata": {},
   "outputs": [],
   "source": [
    "sting_data_5ms = pd.read_csv('Aero_Test_Stings_5ms.txt', sep = \"\\t\", header = None)\n",
    "sting_data_10ms = pd.read_csv('Aero_Test_Stings_10ms.txt', sep = \"\\t\", header = None)\n",
    "aero_test_5ms = pd.read_csv('Aero_Test_5ms.txt', sep = \"\\t\", header = None)\n",
    "aero_test_10ms = pd.read_csv('Aero_Test_10ms.txt', sep = \"\\t\", header = None)\n",
    "sting_data_5ms.columns = ['','Pitot Pressure','Wind Speed (m/s)','Abs AOA','Drag','Lift','Pitch','Roll','F0','F1','F2','F3']\n",
    "sting_data_5ms"
   ]
  }
 ],
 "metadata": {
  "kernelspec": {
   "display_name": "Python 3",
   "language": "python",
   "name": "python3"
  },
  "language_info": {
   "codemirror_mode": {
    "name": "ipython",
    "version": 3
   },
   "file_extension": ".py",
   "mimetype": "text/x-python",
   "name": "python",
   "nbconvert_exporter": "python",
   "pygments_lexer": "ipython3",
   "version": "3.7.3"
  }
 },
 "nbformat": 4,
 "nbformat_minor": 4
}
