{
 "cells": [
  {
   "cell_type": "code",
   "execution_count": 1,
   "metadata": {},
   "outputs": [],
   "source": [
    "import casadi as ca\n",
    "import numpy as np\n",
    "import matplotlib.pyplot as plt\n",
    "import control\n",
    "import collections\n",
    "import pandas as pd"
   ]
  },
  {
   "cell_type": "code",
   "execution_count": 2,
   "metadata": {},
   "outputs": [
    {
     "data": {
      "text/html": [
       "<div>\n",
       "<style scoped>\n",
       "    .dataframe tbody tr th:only-of-type {\n",
       "        vertical-align: middle;\n",
       "    }\n",
       "\n",
       "    .dataframe tbody tr th {\n",
       "        vertical-align: top;\n",
       "    }\n",
       "\n",
       "    .dataframe thead th {\n",
       "        text-align: right;\n",
       "    }\n",
       "</style>\n",
       "<table border=\"1\" class=\"dataframe\">\n",
       "  <thead>\n",
       "    <tr style=\"text-align: right;\">\n",
       "      <th></th>\n",
       "      <th></th>\n",
       "      <th>Pitot Pressure</th>\n",
       "      <th>Wind Speed (m/s)</th>\n",
       "      <th>Abs AOA</th>\n",
       "      <th>Drag</th>\n",
       "      <th>Lift</th>\n",
       "      <th>Pitch</th>\n",
       "      <th>Roll</th>\n",
       "      <th>F0</th>\n",
       "      <th>F1</th>\n",
       "      <th>F2</th>\n",
       "      <th>F3</th>\n",
       "    </tr>\n",
       "  </thead>\n",
       "  <tbody>\n",
       "    <tr>\n",
       "      <th>0</th>\n",
       "      <td>0.066463</td>\n",
       "      <td>24.394239</td>\n",
       "      <td>4.961564</td>\n",
       "      <td>0.0</td>\n",
       "      <td>0.003228</td>\n",
       "      <td>-0.025458</td>\n",
       "      <td>0.072690</td>\n",
       "      <td>-0.015926</td>\n",
       "      <td>0.003228</td>\n",
       "      <td>-0.007878</td>\n",
       "      <td>0.008049</td>\n",
       "      <td>-0.025629</td>\n",
       "    </tr>\n",
       "    <tr>\n",
       "      <th>1</th>\n",
       "      <td>0.067871</td>\n",
       "      <td>24.394763</td>\n",
       "      <td>4.962044</td>\n",
       "      <td>0.0</td>\n",
       "      <td>0.001158</td>\n",
       "      <td>-0.010659</td>\n",
       "      <td>0.052359</td>\n",
       "      <td>-0.018183</td>\n",
       "      <td>0.001158</td>\n",
       "      <td>-0.004568</td>\n",
       "      <td>0.013615</td>\n",
       "      <td>-0.019707</td>\n",
       "    </tr>\n",
       "  </tbody>\n",
       "</table>\n",
       "</div>"
      ],
      "text/plain": [
       "             Pitot Pressure  Wind Speed (m/s)  Abs AOA      Drag      Lift  \\\n",
       "0  0.066463       24.394239          4.961564      0.0  0.003228 -0.025458   \n",
       "1  0.067871       24.394763          4.962044      0.0  0.001158 -0.010659   \n",
       "\n",
       "      Pitch      Roll        F0        F1        F2        F3  \n",
       "0  0.072690 -0.015926  0.003228 -0.007878  0.008049 -0.025629  \n",
       "1  0.052359 -0.018183  0.001158 -0.004568  0.013615 -0.019707  "
      ]
     },
     "execution_count": 2,
     "metadata": {},
     "output_type": "execute_result"
    }
   ],
   "source": [
    "sting_data_5ms = pd.read_csv('Aero_Test_Stings_5ms.txt', sep = \"\\t\", header = None)\n",
    "sting_data_10ms = pd.read_csv('Aero_Test_Stings_10ms.txt', sep = \"\\t\", header = None)\n",
    "aero_test_5ms = pd.read_csv('Aero_Test_5ms.txt', sep = \"\\t\", header = None)\n",
    "aero_test_10ms = pd.read_csv('Aero_Test_10ms.txt', sep = \"\\t\", header = None)\n",
    "sting_data_5ms.columns = ['','Pitot Pressure','Wind Speed (m/s)','Abs AOA','Drag','Lift','Pitch','Roll','F0','F1','F2','F3']\n",
    "sting_data_5ms"
   ]
  },
  {
   "cell_type": "code",
   "execution_count": 3,
   "metadata": {},
   "outputs": [
    {
     "data": {
      "text/html": [
       "<div>\n",
       "<style scoped>\n",
       "    .dataframe tbody tr th:only-of-type {\n",
       "        vertical-align: middle;\n",
       "    }\n",
       "\n",
       "    .dataframe tbody tr th {\n",
       "        vertical-align: top;\n",
       "    }\n",
       "\n",
       "    .dataframe thead th {\n",
       "        text-align: right;\n",
       "    }\n",
       "</style>\n",
       "<table border=\"1\" class=\"dataframe\">\n",
       "  <thead>\n",
       "    <tr style=\"text-align: right;\">\n",
       "      <th></th>\n",
       "      <th></th>\n",
       "      <th>Pitot Pressure</th>\n",
       "      <th>Wind Speed (m/s)</th>\n",
       "      <th>Abs AOA</th>\n",
       "      <th>Drag</th>\n",
       "      <th>Lift</th>\n",
       "      <th>Pitch</th>\n",
       "      <th>Roll</th>\n",
       "      <th>F0</th>\n",
       "      <th>F1</th>\n",
       "      <th>F2</th>\n",
       "      <th>F3</th>\n",
       "    </tr>\n",
       "  </thead>\n",
       "  <tbody>\n",
       "    <tr>\n",
       "      <th>0</th>\n",
       "      <td>0.243066</td>\n",
       "      <td>24.522381</td>\n",
       "      <td>10.033261</td>\n",
       "      <td>0.0</td>\n",
       "      <td>0.016653</td>\n",
       "      <td>0.028931</td>\n",
       "      <td>0.198264</td>\n",
       "      <td>-0.070762</td>\n",
       "      <td>0.016653</td>\n",
       "      <td>0.009844</td>\n",
       "      <td>0.080607</td>\n",
       "      <td>-0.061520</td>\n",
       "    </tr>\n",
       "    <tr>\n",
       "      <th>1</th>\n",
       "      <td>0.242347</td>\n",
       "      <td>24.527576</td>\n",
       "      <td>10.022862</td>\n",
       "      <td>0.0</td>\n",
       "      <td>0.019158</td>\n",
       "      <td>0.039741</td>\n",
       "      <td>0.189606</td>\n",
       "      <td>-0.075789</td>\n",
       "      <td>0.019158</td>\n",
       "      <td>0.009666</td>\n",
       "      <td>0.085455</td>\n",
       "      <td>-0.055381</td>\n",
       "    </tr>\n",
       "  </tbody>\n",
       "</table>\n",
       "</div>"
      ],
      "text/plain": [
       "             Pitot Pressure  Wind Speed (m/s)  Abs AOA      Drag      Lift  \\\n",
       "0  0.243066       24.522381         10.033261      0.0  0.016653  0.028931   \n",
       "1  0.242347       24.527576         10.022862      0.0  0.019158  0.039741   \n",
       "\n",
       "      Pitch      Roll        F0        F1        F2        F3  \n",
       "0  0.198264 -0.070762  0.016653  0.009844  0.080607 -0.061520  \n",
       "1  0.189606 -0.075789  0.019158  0.009666  0.085455 -0.055381  "
      ]
     },
     "execution_count": 3,
     "metadata": {},
     "output_type": "execute_result"
    }
   ],
   "source": [
    "sting_data_10ms.columns = ['','Pitot Pressure','Wind Speed (m/s)','Abs AOA','Drag','Lift','Pitch','Roll','F0','F1','F2','F3']\n",
    "sting_data_10ms"
   ]
  },
  {
   "cell_type": "code",
   "execution_count": 4,
   "metadata": {},
   "outputs": [
    {
     "data": {
      "text/html": [
       "<div>\n",
       "<style scoped>\n",
       "    .dataframe tbody tr th:only-of-type {\n",
       "        vertical-align: middle;\n",
       "    }\n",
       "\n",
       "    .dataframe tbody tr th {\n",
       "        vertical-align: top;\n",
       "    }\n",
       "\n",
       "    .dataframe thead th {\n",
       "        text-align: right;\n",
       "    }\n",
       "</style>\n",
       "<table border=\"1\" class=\"dataframe\">\n",
       "  <thead>\n",
       "    <tr style=\"text-align: right;\">\n",
       "      <th></th>\n",
       "      <th></th>\n",
       "      <th>Pitot Pressure</th>\n",
       "      <th>Wind Speed (m/s)</th>\n",
       "      <th>Abs AOA</th>\n",
       "      <th>Drag</th>\n",
       "      <th>Lift</th>\n",
       "      <th>Pitch</th>\n",
       "      <th>Roll</th>\n",
       "      <th>F0</th>\n",
       "      <th>F1</th>\n",
       "      <th>F2</th>\n",
       "      <th>F3</th>\n",
       "    </tr>\n",
       "  </thead>\n",
       "  <tbody>\n",
       "    <tr>\n",
       "      <th>0</th>\n",
       "      <td>0.068209</td>\n",
       "      <td>24.206949</td>\n",
       "      <td>4.965038</td>\n",
       "      <td>0.0</td>\n",
       "      <td>0.055807</td>\n",
       "      <td>0.103467</td>\n",
       "      <td>0.290141</td>\n",
       "      <td>0.002974</td>\n",
       "      <td>0.055807</td>\n",
       "      <td>0.081447</td>\n",
       "      <td>0.078474</td>\n",
       "      <td>-0.056454</td>\n",
       "    </tr>\n",
       "    <tr>\n",
       "      <th>1</th>\n",
       "      <td>0.069443</td>\n",
       "      <td>24.243261</td>\n",
       "      <td>5.014635</td>\n",
       "      <td>2.0</td>\n",
       "      <td>0.070873</td>\n",
       "      <td>0.211153</td>\n",
       "      <td>0.392594</td>\n",
       "      <td>0.014107</td>\n",
       "      <td>0.070873</td>\n",
       "      <td>0.153303</td>\n",
       "      <td>0.139196</td>\n",
       "      <td>-0.081345</td>\n",
       "    </tr>\n",
       "    <tr>\n",
       "      <th>2</th>\n",
       "      <td>0.069245</td>\n",
       "      <td>24.245791</td>\n",
       "      <td>5.016780</td>\n",
       "      <td>4.0</td>\n",
       "      <td>0.095762</td>\n",
       "      <td>0.306551</td>\n",
       "      <td>0.542574</td>\n",
       "      <td>-0.003519</td>\n",
       "      <td>0.095762</td>\n",
       "      <td>0.208894</td>\n",
       "      <td>0.212413</td>\n",
       "      <td>-0.114755</td>\n",
       "    </tr>\n",
       "    <tr>\n",
       "      <th>3</th>\n",
       "      <td>0.067820</td>\n",
       "      <td>24.250168</td>\n",
       "      <td>5.016808</td>\n",
       "      <td>6.0</td>\n",
       "      <td>0.142462</td>\n",
       "      <td>0.380513</td>\n",
       "      <td>0.814690</td>\n",
       "      <td>-0.032154</td>\n",
       "      <td>0.142462</td>\n",
       "      <td>0.261043</td>\n",
       "      <td>0.293197</td>\n",
       "      <td>-0.173726</td>\n",
       "    </tr>\n",
       "    <tr>\n",
       "      <th>4</th>\n",
       "      <td>0.068392</td>\n",
       "      <td>24.258054</td>\n",
       "      <td>5.007809</td>\n",
       "      <td>8.0</td>\n",
       "      <td>0.194708</td>\n",
       "      <td>0.419166</td>\n",
       "      <td>1.108003</td>\n",
       "      <td>-0.030237</td>\n",
       "      <td>0.194708</td>\n",
       "      <td>0.312091</td>\n",
       "      <td>0.342329</td>\n",
       "      <td>-0.235254</td>\n",
       "    </tr>\n",
       "    <tr>\n",
       "      <th>5</th>\n",
       "      <td>0.068102</td>\n",
       "      <td>24.263196</td>\n",
       "      <td>5.017172</td>\n",
       "      <td>10.0</td>\n",
       "      <td>0.256541</td>\n",
       "      <td>0.443073</td>\n",
       "      <td>1.453146</td>\n",
       "      <td>-0.037346</td>\n",
       "      <td>0.256541</td>\n",
       "      <td>0.356500</td>\n",
       "      <td>0.393846</td>\n",
       "      <td>-0.307273</td>\n",
       "    </tr>\n",
       "    <tr>\n",
       "      <th>6</th>\n",
       "      <td>0.068464</td>\n",
       "      <td>24.262290</td>\n",
       "      <td>4.964981</td>\n",
       "      <td>-2.0</td>\n",
       "      <td>0.058056</td>\n",
       "      <td>-0.014414</td>\n",
       "      <td>0.274078</td>\n",
       "      <td>0.009495</td>\n",
       "      <td>0.058056</td>\n",
       "      <td>0.021354</td>\n",
       "      <td>0.011859</td>\n",
       "      <td>-0.047627</td>\n",
       "    </tr>\n",
       "    <tr>\n",
       "      <th>7</th>\n",
       "      <td>0.068198</td>\n",
       "      <td>24.265092</td>\n",
       "      <td>4.939145</td>\n",
       "      <td>-4.0</td>\n",
       "      <td>0.072530</td>\n",
       "      <td>-0.132667</td>\n",
       "      <td>0.317532</td>\n",
       "      <td>0.022525</td>\n",
       "      <td>0.072530</td>\n",
       "      <td>-0.030296</td>\n",
       "      <td>-0.052821</td>\n",
       "      <td>-0.049551</td>\n",
       "    </tr>\n",
       "    <tr>\n",
       "      <th>8</th>\n",
       "      <td>0.066795</td>\n",
       "      <td>24.268971</td>\n",
       "      <td>4.916974</td>\n",
       "      <td>-6.0</td>\n",
       "      <td>0.103705</td>\n",
       "      <td>-0.220318</td>\n",
       "      <td>0.448404</td>\n",
       "      <td>0.028143</td>\n",
       "      <td>0.103705</td>\n",
       "      <td>-0.061785</td>\n",
       "      <td>-0.089928</td>\n",
       "      <td>-0.068605</td>\n",
       "    </tr>\n",
       "    <tr>\n",
       "      <th>9</th>\n",
       "      <td>0.068434</td>\n",
       "      <td>24.271850</td>\n",
       "      <td>4.917874</td>\n",
       "      <td>-8.0</td>\n",
       "      <td>0.142466</td>\n",
       "      <td>-0.292559</td>\n",
       "      <td>0.620078</td>\n",
       "      <td>0.029440</td>\n",
       "      <td>0.142466</td>\n",
       "      <td>-0.083621</td>\n",
       "      <td>-0.113061</td>\n",
       "      <td>-0.095877</td>\n",
       "    </tr>\n",
       "    <tr>\n",
       "      <th>10</th>\n",
       "      <td>0.067982</td>\n",
       "      <td>24.272699</td>\n",
       "      <td>4.917526</td>\n",
       "      <td>-10.0</td>\n",
       "      <td>0.187855</td>\n",
       "      <td>-0.355648</td>\n",
       "      <td>0.825975</td>\n",
       "      <td>0.051095</td>\n",
       "      <td>0.187855</td>\n",
       "      <td>-0.087396</td>\n",
       "      <td>-0.138491</td>\n",
       "      <td>-0.129761</td>\n",
       "    </tr>\n",
       "  </tbody>\n",
       "</table>\n",
       "</div>"
      ],
      "text/plain": [
       "              Pitot Pressure  Wind Speed (m/s)  Abs AOA      Drag      Lift  \\\n",
       "0   0.068209       24.206949          4.965038      0.0  0.055807  0.103467   \n",
       "1   0.069443       24.243261          5.014635      2.0  0.070873  0.211153   \n",
       "2   0.069245       24.245791          5.016780      4.0  0.095762  0.306551   \n",
       "3   0.067820       24.250168          5.016808      6.0  0.142462  0.380513   \n",
       "4   0.068392       24.258054          5.007809      8.0  0.194708  0.419166   \n",
       "5   0.068102       24.263196          5.017172     10.0  0.256541  0.443073   \n",
       "6   0.068464       24.262290          4.964981     -2.0  0.058056 -0.014414   \n",
       "7   0.068198       24.265092          4.939145     -4.0  0.072530 -0.132667   \n",
       "8   0.066795       24.268971          4.916974     -6.0  0.103705 -0.220318   \n",
       "9   0.068434       24.271850          4.917874     -8.0  0.142466 -0.292559   \n",
       "10  0.067982       24.272699          4.917526    -10.0  0.187855 -0.355648   \n",
       "\n",
       "       Pitch      Roll        F0        F1        F2        F3  \n",
       "0   0.290141  0.002974  0.055807  0.081447  0.078474 -0.056454  \n",
       "1   0.392594  0.014107  0.070873  0.153303  0.139196 -0.081345  \n",
       "2   0.542574 -0.003519  0.095762  0.208894  0.212413 -0.114755  \n",
       "3   0.814690 -0.032154  0.142462  0.261043  0.293197 -0.173726  \n",
       "4   1.108003 -0.030237  0.194708  0.312091  0.342329 -0.235254  \n",
       "5   1.453146 -0.037346  0.256541  0.356500  0.393846 -0.307273  \n",
       "6   0.274078  0.009495  0.058056  0.021354  0.011859 -0.047627  \n",
       "7   0.317532  0.022525  0.072530 -0.030296 -0.052821 -0.049551  \n",
       "8   0.448404  0.028143  0.103705 -0.061785 -0.089928 -0.068605  \n",
       "9   0.620078  0.029440  0.142466 -0.083621 -0.113061 -0.095877  \n",
       "10  0.825975  0.051095  0.187855 -0.087396 -0.138491 -0.129761  "
      ]
     },
     "execution_count": 4,
     "metadata": {},
     "output_type": "execute_result"
    }
   ],
   "source": [
    "aero_test_5ms.columns = ['','Pitot Pressure','Wind Speed (m/s)','Abs AOA','Drag','Lift','Pitch','Roll','F0','F1','F2','F3']\n",
    "aero_test_5ms"
   ]
  },
  {
   "cell_type": "code",
   "execution_count": 5,
   "metadata": {},
   "outputs": [
    {
     "data": {
      "text/html": [
       "<div>\n",
       "<style scoped>\n",
       "    .dataframe tbody tr th:only-of-type {\n",
       "        vertical-align: middle;\n",
       "    }\n",
       "\n",
       "    .dataframe tbody tr th {\n",
       "        vertical-align: top;\n",
       "    }\n",
       "\n",
       "    .dataframe thead th {\n",
       "        text-align: right;\n",
       "    }\n",
       "</style>\n",
       "<table border=\"1\" class=\"dataframe\">\n",
       "  <thead>\n",
       "    <tr style=\"text-align: right;\">\n",
       "      <th></th>\n",
       "      <th></th>\n",
       "      <th>Pitot Pressure</th>\n",
       "      <th>Wind Speed (m/s)</th>\n",
       "      <th>Abs AOA</th>\n",
       "      <th>Drag</th>\n",
       "      <th>Lift</th>\n",
       "      <th>Pitch</th>\n",
       "      <th>Roll</th>\n",
       "      <th>F0</th>\n",
       "      <th>F1</th>\n",
       "      <th>F2</th>\n",
       "      <th>F3</th>\n",
       "    </tr>\n",
       "  </thead>\n",
       "  <tbody>\n",
       "    <tr>\n",
       "      <th>0</th>\n",
       "      <td>0.240579</td>\n",
       "      <td>24.433911</td>\n",
       "      <td>9.974355</td>\n",
       "      <td>0.0</td>\n",
       "      <td>0.206269</td>\n",
       "      <td>0.456143</td>\n",
       "      <td>1.049237</td>\n",
       "      <td>0.040689</td>\n",
       "      <td>0.206269</td>\n",
       "      <td>0.348116</td>\n",
       "      <td>0.307427</td>\n",
       "      <td>-0.199399</td>\n",
       "    </tr>\n",
       "    <tr>\n",
       "      <th>1</th>\n",
       "      <td>0.240904</td>\n",
       "      <td>24.460488</td>\n",
       "      <td>9.998722</td>\n",
       "      <td>2.0</td>\n",
       "      <td>0.255459</td>\n",
       "      <td>0.902360</td>\n",
       "      <td>1.341585</td>\n",
       "      <td>0.030738</td>\n",
       "      <td>0.255459</td>\n",
       "      <td>0.598451</td>\n",
       "      <td>0.567713</td>\n",
       "      <td>-0.263804</td>\n",
       "    </tr>\n",
       "    <tr>\n",
       "      <th>2</th>\n",
       "      <td>0.241404</td>\n",
       "      <td>24.468884</td>\n",
       "      <td>9.998460</td>\n",
       "      <td>4.0</td>\n",
       "      <td>0.343053</td>\n",
       "      <td>1.291990</td>\n",
       "      <td>1.853894</td>\n",
       "      <td>-0.023198</td>\n",
       "      <td>0.343053</td>\n",
       "      <td>0.821985</td>\n",
       "      <td>0.845183</td>\n",
       "      <td>-0.375177</td>\n",
       "    </tr>\n",
       "    <tr>\n",
       "      <th>3</th>\n",
       "      <td>0.240299</td>\n",
       "      <td>24.484355</td>\n",
       "      <td>9.998653</td>\n",
       "      <td>6.0</td>\n",
       "      <td>0.538892</td>\n",
       "      <td>1.591951</td>\n",
       "      <td>2.906456</td>\n",
       "      <td>-0.145055</td>\n",
       "      <td>0.538892</td>\n",
       "      <td>1.016971</td>\n",
       "      <td>1.162026</td>\n",
       "      <td>-0.587046</td>\n",
       "    </tr>\n",
       "    <tr>\n",
       "      <th>4</th>\n",
       "      <td>0.239913</td>\n",
       "      <td>24.491807</td>\n",
       "      <td>9.998489</td>\n",
       "      <td>8.0</td>\n",
       "      <td>0.756909</td>\n",
       "      <td>1.750928</td>\n",
       "      <td>4.136263</td>\n",
       "      <td>-0.099075</td>\n",
       "      <td>0.756909</td>\n",
       "      <td>1.248990</td>\n",
       "      <td>1.348065</td>\n",
       "      <td>-0.846126</td>\n",
       "    </tr>\n",
       "    <tr>\n",
       "      <th>5</th>\n",
       "      <td>0.240687</td>\n",
       "      <td>24.497126</td>\n",
       "      <td>9.989233</td>\n",
       "      <td>10.0</td>\n",
       "      <td>1.005390</td>\n",
       "      <td>1.844592</td>\n",
       "      <td>5.461289</td>\n",
       "      <td>-0.164402</td>\n",
       "      <td>1.005390</td>\n",
       "      <td>1.395475</td>\n",
       "      <td>1.559877</td>\n",
       "      <td>-1.110759</td>\n",
       "    </tr>\n",
       "    <tr>\n",
       "      <th>6</th>\n",
       "      <td>0.239108</td>\n",
       "      <td>24.513545</td>\n",
       "      <td>9.949050</td>\n",
       "      <td>-2.0</td>\n",
       "      <td>0.204680</td>\n",
       "      <td>0.018800</td>\n",
       "      <td>0.986645</td>\n",
       "      <td>0.061611</td>\n",
       "      <td>0.204680</td>\n",
       "      <td>0.128235</td>\n",
       "      <td>0.066624</td>\n",
       "      <td>-0.176060</td>\n",
       "    </tr>\n",
       "    <tr>\n",
       "      <th>7</th>\n",
       "      <td>0.237891</td>\n",
       "      <td>24.522805</td>\n",
       "      <td>9.922778</td>\n",
       "      <td>-4.0</td>\n",
       "      <td>0.258190</td>\n",
       "      <td>-0.452804</td>\n",
       "      <td>1.235019</td>\n",
       "      <td>0.094068</td>\n",
       "      <td>0.258190</td>\n",
       "      <td>-0.070238</td>\n",
       "      <td>-0.164305</td>\n",
       "      <td>-0.218261</td>\n",
       "    </tr>\n",
       "    <tr>\n",
       "      <th>8</th>\n",
       "      <td>0.237800</td>\n",
       "      <td>24.533398</td>\n",
       "      <td>9.882190</td>\n",
       "      <td>-6.0</td>\n",
       "      <td>0.370899</td>\n",
       "      <td>-0.876443</td>\n",
       "      <td>1.782381</td>\n",
       "      <td>0.129453</td>\n",
       "      <td>0.370899</td>\n",
       "      <td>-0.215079</td>\n",
       "      <td>-0.344532</td>\n",
       "      <td>-0.316833</td>\n",
       "    </tr>\n",
       "    <tr>\n",
       "      <th>9</th>\n",
       "      <td>0.235823</td>\n",
       "      <td>24.540122</td>\n",
       "      <td>9.854879</td>\n",
       "      <td>-8.0</td>\n",
       "      <td>0.539099</td>\n",
       "      <td>-1.184203</td>\n",
       "      <td>2.613678</td>\n",
       "      <td>0.135332</td>\n",
       "      <td>0.539099</td>\n",
       "      <td>-0.289579</td>\n",
       "      <td>-0.424911</td>\n",
       "      <td>-0.469713</td>\n",
       "    </tr>\n",
       "    <tr>\n",
       "      <th>10</th>\n",
       "      <td>0.234211</td>\n",
       "      <td>24.548877</td>\n",
       "      <td>9.819686</td>\n",
       "      <td>-10.0</td>\n",
       "      <td>0.722433</td>\n",
       "      <td>-1.382929</td>\n",
       "      <td>3.523644</td>\n",
       "      <td>0.195229</td>\n",
       "      <td>0.722433</td>\n",
       "      <td>-0.274901</td>\n",
       "      <td>-0.470129</td>\n",
       "      <td>-0.637899</td>\n",
       "    </tr>\n",
       "  </tbody>\n",
       "</table>\n",
       "</div>"
      ],
      "text/plain": [
       "              Pitot Pressure  Wind Speed (m/s)  Abs AOA      Drag      Lift  \\\n",
       "0   0.240579       24.433911          9.974355      0.0  0.206269  0.456143   \n",
       "1   0.240904       24.460488          9.998722      2.0  0.255459  0.902360   \n",
       "2   0.241404       24.468884          9.998460      4.0  0.343053  1.291990   \n",
       "3   0.240299       24.484355          9.998653      6.0  0.538892  1.591951   \n",
       "4   0.239913       24.491807          9.998489      8.0  0.756909  1.750928   \n",
       "5   0.240687       24.497126          9.989233     10.0  1.005390  1.844592   \n",
       "6   0.239108       24.513545          9.949050     -2.0  0.204680  0.018800   \n",
       "7   0.237891       24.522805          9.922778     -4.0  0.258190 -0.452804   \n",
       "8   0.237800       24.533398          9.882190     -6.0  0.370899 -0.876443   \n",
       "9   0.235823       24.540122          9.854879     -8.0  0.539099 -1.184203   \n",
       "10  0.234211       24.548877          9.819686    -10.0  0.722433 -1.382929   \n",
       "\n",
       "       Pitch      Roll        F0        F1        F2        F3  \n",
       "0   1.049237  0.040689  0.206269  0.348116  0.307427 -0.199399  \n",
       "1   1.341585  0.030738  0.255459  0.598451  0.567713 -0.263804  \n",
       "2   1.853894 -0.023198  0.343053  0.821985  0.845183 -0.375177  \n",
       "3   2.906456 -0.145055  0.538892  1.016971  1.162026 -0.587046  \n",
       "4   4.136263 -0.099075  0.756909  1.248990  1.348065 -0.846126  \n",
       "5   5.461289 -0.164402  1.005390  1.395475  1.559877 -1.110759  \n",
       "6   0.986645  0.061611  0.204680  0.128235  0.066624 -0.176060  \n",
       "7   1.235019  0.094068  0.258190 -0.070238 -0.164305 -0.218261  \n",
       "8   1.782381  0.129453  0.370899 -0.215079 -0.344532 -0.316833  \n",
       "9   2.613678  0.135332  0.539099 -0.289579 -0.424911 -0.469713  \n",
       "10  3.523644  0.195229  0.722433 -0.274901 -0.470129 -0.637899  "
      ]
     },
     "execution_count": 5,
     "metadata": {},
     "output_type": "execute_result"
    }
   ],
   "source": [
    "aero_test_10ms.columns = ['','Pitot Pressure','Wind Speed (m/s)','Abs AOA','Drag','Lift','Pitch','Roll','F0','F1','F2','F3']\n",
    "aero_test_10ms"
   ]
  },
  {
   "cell_type": "code",
   "execution_count": 6,
   "metadata": {},
   "outputs": [],
   "source": [
    "rho = 1.225\n",
    "lb2N = 4.448221615\n",
    "S = 0.14709648\n",
    "\n",
    "vaero5 = aero_test_5ms['Wind Speed (m/s)']\n",
    "vaero10 = aero_test_10ms['Wind Speed (m/s)']\n",
    "\n",
    "LiftStingData5 = sting_data_5ms['Lift']\n",
    "LiftSting5 = (LiftStingData5[0] + LiftStingData5[1])/2\n",
    "DragStingData5 = sting_data_5ms['Drag']\n",
    "DragSting5 = (DragStingData5[0] + DragStingData5[1])/2\n",
    "\n",
    "LiftStingData10 = sting_data_10ms['Lift']\n",
    "LiftSting10 = (LiftStingData10[0] + LiftStingData10[1])/2\n",
    "DragStingData10 = sting_data_10ms['Drag']\n",
    "DragSting10 = (DragStingData10[0] + DragStingData10[1])/2\n",
    "\n",
    "Lift5 = aero_test_5ms['Lift']\n",
    "Drag5 = aero_test_5ms['Drag']\n",
    "Lift10 = aero_test_10ms['Lift']\n",
    "Drag10 = aero_test_10ms['Drag']"
   ]
  },
  {
   "cell_type": "code",
   "execution_count": 7,
   "metadata": {},
   "outputs": [],
   "source": [
    "q5 = 0.5*rho*vaero5*vaero5\n",
    "q10 = 0.5*rho*vaero10*vaero10;\n",
    "CD5 = (Drag5-DragSting5)*lb2N/(q5*S)\n",
    "CD10 = (Drag10-DragSting10)*lb2N/(q10*S)\n",
    "CL5 = (Lift5-LiftSting5)*lb2N/(q5*S)\n",
    "CL10 = (Lift10-LiftSting10)*lb2N/(q10*S)"
   ]
  },
  {
   "cell_type": "code",
   "execution_count": 8,
   "metadata": {},
   "outputs": [],
   "source": [
    "alpha_slope = 2.260509488;\n",
    "alpha_0 = 3.964867942;\n",
    "alpha = np.array([0,2,4,6,8,10,-2,-4,-6,-8,-10])\n",
    "alpha = alpha*alpha_slope + alpha_0 "
   ]
  },
  {
   "cell_type": "code",
   "execution_count": 9,
   "metadata": {},
   "outputs": [
    {
     "data": {
      "text/plain": [
       "[<matplotlib.lines.Line2D at 0x7f2a205eddd8>]"
      ]
     },
     "execution_count": 9,
     "metadata": {},
     "output_type": "execute_result"
    },
    {
     "data": {
      "image/png": "[encoded data removed]",
      "text/plain": [
       "<Figure size 432x288 with 1 Axes>"
      ]
     },
     "metadata": {
      "needs_background": "light"
     },
     "output_type": "display_data"
    }
   ],
   "source": [
    "plt.plot(CL5,CD5,'o')"
   ]
  },
  {
   "cell_type": "code",
   "execution_count": 10,
   "metadata": {},
   "outputs": [
    {
     "data": {
      "text/plain": [
       "[<matplotlib.lines.Line2D at 0x7f2a20509e80>]"
      ]
     },
     "execution_count": 10,
     "metadata": {},
     "output_type": "execute_result"
    },
    {
     "data": {
      "image/png": "[encoded data removed]",
      "text/plain": [
       "<Figure size 432x288 with 1 Axes>"
      ]
     },
     "metadata": {
      "needs_background": "light"
     },
     "output_type": "display_data"
    }
   ],
   "source": [
    "plt.plot(CL10,CD10,'o')"
   ]
  },
  {
   "cell_type": "code",
   "execution_count": 11,
   "metadata": {},
   "outputs": [
    {
     "data": {
      "text/plain": [
       "[<matplotlib.lines.Line2D at 0x7f2a20487470>]"
      ]
     },
     "execution_count": 11,
     "metadata": {},
     "output_type": "execute_result"
    },
    {
     "data": {
      "image/png": "[encoded data removed]",
      "text/plain": [
       "<Figure size 432x288 with 1 Axes>"
      ]
     },
     "metadata": {
      "needs_background": "light"
     },
     "output_type": "display_data"
    }
   ],
   "source": [
    "plt.plot(alpha,CL5,'o')"
   ]
  },
  {
   "cell_type": "code",
   "execution_count": 12,
   "metadata": {},
   "outputs": [
    {
     "data": {
      "text/plain": [
       "[<matplotlib.lines.Line2D at 0x7f2a20466d68>]"
      ]
     },
     "execution_count": 12,
     "metadata": {},
     "output_type": "execute_result"
    },
    {
     "data": {
      "image/png": "[encoded data removed]",
      "text/plain": [
       "<Figure size 432x288 with 1 Axes>"
      ]
     },
     "metadata": {
      "needs_background": "light"
     },
     "output_type": "display_data"
    }
   ],
   "source": [
    "plt.plot(alpha,CL10,'o')"
   ]
  },
  {
   "cell_type": "code",
   "execution_count": 13,
   "metadata": {},
   "outputs": [
    {
     "data": {
      "text/plain": [
       "[<matplotlib.lines.Line2D at 0x7f2a203ceba8>]"
      ]
     },
     "execution_count": 13,
     "metadata": {},
     "output_type": "execute_result"
    },
    {
     "data": {
      "image/png": "[encoded data removed]",
      "text/plain": [
       "<Figure size 432x288 with 1 Axes>"
      ]
     },
     "metadata": {
      "needs_background": "light"
     },
     "output_type": "display_data"
    }
   ],
   "source": [
    "plt.plot(alpha,CD5,'o')"
   ]
  },
  {
   "cell_type": "code",
   "execution_count": 14,
   "metadata": {},
   "outputs": [
    {
     "data": {
      "text/plain": [
       "[<matplotlib.lines.Line2D at 0x7f2a203b2b38>]"
      ]
     },
     "execution_count": 14,
     "metadata": {},
     "output_type": "execute_result"
    },
    {
     "data": {
      "image/png": "[encoded data removed]",
      "text/plain": [
       "<Figure size 432x288 with 1 Axes>"
      ]
     },
     "metadata": {
      "needs_background": "light"
     },
     "output_type": "display_data"
    }
   ],
   "source": [
    "plt.plot(alpha,CD10,'o')"
   ]
  },
  {
   "cell_type": "code",
   "execution_count": 15,
   "metadata": {},
   "outputs": [],
   "source": [
    "CL5_slopes = [0,0,0,0,0,0,0,0,0,0]\n",
    "CL10_slopes = [0,0,0,0,0,0,0,0,0,0]\n",
    "CD5_slopes = [0,0,0,0,0,0,0,0,0,0]\n",
    "CD10_slopes = [0,0,0,0,0,0,0,0,0,0]\n",
    "\n",
    "for i in range(6):\n",
    "    CL5_slopes[i] = (CL5[i+1] - CL5[i])/(alpha[i+1]-alpha[i])\n",
    "    CL5_slopes[i+4] = (CL5[i+4] - CL5[i+3])/(alpha[i+4]-alpha[3])\n",
    "for i in range(6):\n",
    "    CL10_slopes[i] = (CL10[i+1] - CL10[i])/(alpha[i+1]-alpha[i])\n",
    "    CL10_slopes[i+4] = (CL10[i+4] - CL10[i+3])/(alpha[i+4]-alpha[3])\n",
    "for i in range(6):\n",
    "    CD5_slopes[i] = (CD5[i+1] - CD5[i])/(alpha[i+1]-alpha[i])\n",
    "    CD5_slopes[i+4] = (CD5[i+4] - CD5[i+3])/(alpha[i+4]-alpha[3])\n",
    "for i in range(6):\n",
    "    CD10_slopes[i] = (CD10[i+1] - CD10[i])/(alpha[i+1]-alpha[i])\n",
    "    CD10_slopes[i+4] = (CD10[i+4] - CD10[i+3])/(alpha[i+4]-alpha[3])"
   ]
  },
  {
   "cell_type": "code",
   "execution_count": 16,
   "metadata": {},
   "outputs": [],
   "source": [
    "CL5_slope_mean = np.mean(CL5_slopes)\n",
    "CL10_slope_mean = np.mean(CL10_slopes)\n",
    "CD5_slope_mean = np.mean(CD5_slopes)\n",
    "CD10_slope_mean = np.mean(CD10_slopes)"
   ]
  },
  {
   "cell_type": "code",
   "execution_count": 18,
   "metadata": {},
   "outputs": [],
   "source": [
    "CL5_0 = CL5[0] - alpha_0 * CL5_slope_mean\n",
    "CL10_0 = CL10[0] - alpha_0 * CL10_slope_mean\n",
    "CD5_0 = CD5[0] - alpha_0 * CD5_slope_mean\n",
    "CD10_0 = CD10[0] - alpha_0 * CD10_slope_mean\n",
    "\n",
    "a = ca.SX.sym('a')\n",
    "CL5_eq = CL5_slope_mean*a-CL5_0\n",
    "CL10_eq = CL10_slope_mean*a-CL10_0\n",
    "CD5_eq = CD5_slope_mean*a-CD5_0\n",
    "CD10_eq = CD10_slope_mean*a-CD10_0"
   ]
  },
  {
   "cell_type": "code",
   "execution_count": 19,
   "metadata": {},
   "outputs": [
    {
     "data": {
      "text/plain": [
       "SX(((0.0250818*a)-0.143942))"
      ]
     },
     "execution_count": 19,
     "metadata": {},
     "output_type": "execute_result"
    }
   ],
   "source": [
    "CL5_eq"
   ]
  },
  {
   "cell_type": "code",
   "execution_count": 20,
   "metadata": {},
   "outputs": [
    {
     "data": {
      "text/plain": [
       "SX(((0.0258534*a)-0.106821))"
      ]
     },
     "execution_count": 20,
     "metadata": {},
     "output_type": "execute_result"
    }
   ],
   "source": [
    "CL10_eq"
   ]
  },
  {
   "cell_type": "code",
   "execution_count": 21,
   "metadata": {},
   "outputs": [
    {
     "data": {
      "text/plain": [
       "SX(((0.011602*a)-0.0613775))"
      ]
     },
     "execution_count": 21,
     "metadata": {},
     "output_type": "execute_result"
    }
   ],
   "source": [
    "CD5_eq"
   ]
  },
  {
   "cell_type": "code",
   "execution_count": 22,
   "metadata": {},
   "outputs": [
    {
     "data": {
      "text/plain": [
       "SX(((0.0117759*a)-0.0467873))"
      ]
     },
     "execution_count": 22,
     "metadata": {},
     "output_type": "execute_result"
    }
   ],
   "source": [
    "CD10_eq"
   ]
  },
  {
   "cell_type": "code",
   "execution_count": null,
   "metadata": {},
   "outputs": [],
   "source": []
  }
 ],
 "metadata": {
  "kernelspec": {
   "display_name": "Python 3",
   "language": "python",
   "name": "python3"
  },
  "language_info": {
   "codemirror_mode": {
    "name": "ipython",
    "version": 3
   },
   "file_extension": ".py",
   "mimetype": "text/x-python",
   "name": "python",
   "nbconvert_exporter": "python",
   "pygments_lexer": "ipython3",
   "version": "3.7.3"
  }
 },
 "nbformat": 4,
 "nbformat_minor": 4
}
