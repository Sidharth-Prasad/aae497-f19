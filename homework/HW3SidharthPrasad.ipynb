{
 "cells": [
  {
   "cell_type": "code",
   "execution_count": 1,
   "metadata": {},
   "outputs": [],
   "source": [
    "import casadi as ca\n",
    "import matplotlib.pyplot as plt\n",
    "%matplotlib inline\n",
    "import numpy as np"
   ]
  },
  {
   "cell_type": "code",
   "execution_count": 26,
   "metadata": {},
   "outputs": [],
   "source": [
    "S = 2170.0\n",
    "CBAR = 17.5\n",
    "MASS = 5000\n",
    "IYY = 4.1*10**6\n",
    "TSTAT = 6.0*10**4\n",
    "DTDV = -38.0\n",
    "ZE = 2.0\n",
    "CDCLS = 0.042\n",
    "CLA = 0.085\n",
    "CMA = -0.22\n",
    "CMDE = -0.16\n",
    "CMQ = -16.0\n",
    "CMADOT= -6.0\n",
    "CLADOT = 0\n",
    "RTOD = 57.29578\n",
    "GD = 32.17"
   ]
  },
  {
   "cell_type": "code",
   "execution_count": 9,
   "metadata": {},
   "outputs": [],
   "source": [
    "THTL = ca.SX.sym('th')\n",
    "ELEV = ca.SX.sym('el')\n",
    "XCG = ca.SX.sym('xcg')\n",
    "LAND = ca.SX.sym('ld')\n",
    "\n",
    "u = ca.vertcat(THTL,ELEV,XCG,LAND)\n",
    "\n",
    "VT = ca.SX.sym('vt')\n",
    "ALPHA = RTOD * ca.SX.sym('a')\n",
    "THETA = ca.SX.sym('theta')\n",
    "Q = ca.SX.sym('q')\n",
    "H = ca.SX.sym('h')\n",
    "\n",
    "x = ca.vertcat(VT,ALPHA,THETA,Q,H)"
   ]
  },
  {
   "cell_type": "code",
   "execution_count": 13,
   "metadata": {},
   "outputs": [],
   "source": [
    "#PAGE 634 FOR ADC IN FORTRAN\n",
    "QBAR = ca.SX.sym('Qbar')\n",
    "MACH = ca.SX.sym('mach')"
   ]
  },
  {
   "cell_type": "code",
   "execution_count": 16,
   "metadata": {},
   "outputs": [],
   "source": [
    "QS = QBAR * S\n",
    "SALP = ca.sin(x[1])\n",
    "CALP = ca.cos(x[1])\n",
    "GAM = THETA - x[1]\n",
    "SGAM = ca.sin(GAM)\n",
    "CGAM = ca.cos(GAM)"
   ]
  },
  {
   "cell_type": "code",
   "execution_count": 20,
   "metadata": {},
   "outputs": [],
   "source": [
    "land = ca.SX.sym('land')\n",
    "\n",
    "LAND0 = (0.20,0.16,0.05,0.0,0.0)\n",
    "LAND1 = (1.0,0.08,-0.20,0.02,-0.05)\n",
    "\n",
    "coeff = ca.if_else(land, LAND0, LAND1)\n",
    "CLO = coeff[0]\n",
    "CDO = coeff[1]\n",
    "CMO = coeff[2]\n",
    "DCDG = coeff[3]\n",
    "DCMG = coeff[4]\n"
   ]
  },
  {
   "cell_type": "code",
   "execution_count": 21,
   "metadata": {},
   "outputs": [],
   "source": [
    "THR = (TSTAT+VT*DTDV) * ca.fmax(THTL,0)\n",
    "CL = CLO + CLA*ALPHA\n",
    "CM = DCMG + CMO + CMA*ALPHA + CMDE*ELEV + CL* (XCG-0.25)\n",
    "CD = DCDG + CDO + CDCLS*CL*CL"
   ]
  },
  {
   "cell_type": "code",
   "execution_count": 27,
   "metadata": {},
   "outputs": [],
   "source": [
    "xd1 = (THR*CALP*QS*CD)/MASS - GD * SGAM\n",
    "xd2 = (-THR*SALP-QS*CL+MASS*(VT*Q+GD+CGAM)) / (MASS*VT+QS*CLADOT)\n",
    "xd3 = Q\n",
    "D = 0.5*CBAR*(CMQ*Q+CMADOT*xd2)/VT\n",
    "xd4 = (QS*CBAR*(CM + D) + THR*ZE)/IYY\n",
    "xd5 = VT*SGAM\n",
    "xd6 = VT*CGAM"
   ]
  },
  {
   "cell_type": "code",
   "execution_count": 28,
   "metadata": {},
   "outputs": [],
   "source": [
    "xd = ca.vertcat(xd1,xd2,xd3,xd4,xd5,xd6)\n"
   ]
  },
  {
   "cell_type": "code",
   "execution_count": 29,
   "metadata": {},
   "outputs": [
    {
     "data": {
      "text/plain": [
       "SX(@1=((60000+(-38*vt))*fmax(th,0)), @2=(57.2958*a), @3=(2170*Qbar), @4=(!land), @5=(((land?0.2:0)+(@4?1:0))+(0.085*@2)), @6=5000, @7=32.17, @8=(theta-@2), @9=sin(@8), @10=cos(@8), @11=(((@6*(((vt*q)+@7)+@10))-((@1*sin(@2))+(@3*@5)))/(@6*vt)), [(((((@1*cos(@2))*@3)*(((@4?0.02:0)+((land?0.16:0)+(@4?0.08:0)))+((0.042*@5)*@5)))/@6)-(@7*@9)), @11, q, ((((17.5*@3)*((((((@4?-0.05:0)+((land?0.05:0)+(@4?-0.2:0)))+(-0.22*@2))+(-0.16*el))+(@5*(xcg-0.25)))+((8.75*((-16*q)+(-6*@11)))/vt)))+(2*@1))/4.1e+06), (vt*@9), (vt*@10)])"
      ]
     },
     "execution_count": 29,
     "metadata": {},
     "output_type": "execute_result"
    }
   ],
   "source": [
    "from casadi.tools.graph import dotgraph\n",
    "from IPython.display import Image\n",
    "\n",
    "def draw_graph(expr):\n",
    "    return Image(dotgraph(expr).create_png())"
   ]
  },
  {
   "cell_type": "code",
   "execution_count": null,
   "metadata": {},
   "outputs": [],
   "source": []
  }
 ],
 "metadata": {
  "kernelspec": {
   "display_name": "Python 3",
   "language": "python",
   "name": "python3"
  },
  "language_info": {
   "codemirror_mode": {
    "name": "ipython",
    "version": 3
   },
   "file_extension": ".py",
   "mimetype": "text/x-python",
   "name": "python",
   "nbconvert_exporter": "python",
   "pygments_lexer": "ipython3",
   "version": "3.7.3"
  }
 },
 "nbformat": 4,
 "nbformat_minor": 4
}
