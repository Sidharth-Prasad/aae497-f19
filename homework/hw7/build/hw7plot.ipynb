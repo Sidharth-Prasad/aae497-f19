{
 "cells": [
  {
   "cell_type": "code",
   "execution_count": 1,
   "metadata": {},
   "outputs": [],
   "source": [
    "import numpy as np\n",
    "from matplotlib import pyplot as plt"
   ]
  },
  {
   "cell_type": "code",
   "execution_count": 2,
   "metadata": {},
   "outputs": [
    {
     "name": "stdout",
     "output_type": "stream",
     "text": [
      "[['29978', '1'], ['31883', '2'], ['15169', '3'], ['12114', '4'], ['25717', '5'], ['205', '6'], ['41238', '7'], ['24818', '8'], ['31463', '9'], ['49881', '10'], ['25864', '11'], ['16804', '12'], ['56998', '13'], ['43095', '14'], ['13776', '15'], ['74557', '16'], ['21677', '17'], ['20779', '18'], ['56318', '19'], ['133945', '20'], ['11904', '21'], ['11277', '22'], ['21181', '23'], ['16439', '24'], ['389', '25'], ['220', '26'], ['12312', '27'], ['16195', '28'], ['112', '29'], ['54833', '30'], ['13853', '31'], ['10683', '32'], ['12760', '33'], ['8798', '34'], ['12204', '35'], ['32449', '36'], ['20286', '37'], ['310', '38'], ['20150', '39'], ['22892', '40'], ['38013', '41'], ['9798', '42'], ['20399', '43'], ['12360', '44'], ['210', '45'], ['49826', '46'], ['22419', '47'], ['10935', '48'], ['34174', '49'], ['23200', '50'], ['44488', '51'], ['20951', '52'], ['70174', '53'], ['29511', '54'], ['10415', '55'], ['165', '56'], ['31495', '57'], ['27735', '58'], ['24393', '59'], ['53494', '60'], ['19819', '61'], ['12488', '62'], ['8675', '63'], ['1111', '64'], ['7364', '65'], ['20932', '66'], ['45285', '67'], ['19911', '68'], ['17623', '69'], ['11688', '70'], ['41618', '71'], ['34377', '72'], ['199', '73'], ['249', '74'], ['23251', '75'], ['37933', '76'], ['24390', '77'], ['44879', '78'], ['13025', '79'], ['10734', '80'], ['41857', '81'], ['51290', '82'], ['61086', '83'], ['21940', '84'], ['8148', '85'], ['14008', '86'], ['23837', '87'], ['305', '88'], ['30901', '89'], ['45080', '90'], ['15993', '91'], ['48980', '92'], ['30347', '93'], ['20258', '94'], ['13416', '95'], ['6455', '96'], ['163', '97'], ['17865', '98'], ['17520', '99']]\n"
     ]
    }
   ],
   "source": [
    "data = open('quadtree_output.txt', 'r')\n",
    "lines = data.readlines\n",
    "\n",
    "numbers = [[i for i in line.split()] for line in data.readlines()]\n",
    "\n",
    "print(numbers)\n",
    "time=[]\n",
    "res=[]\n",
    "\n",
    "for j in numbers:\n",
    "    time.append(float(j[0]))\n",
    "    res.append(float(j[1]))"
   ]
  },
  {
   "cell_type": "code",
   "execution_count": 4,
   "metadata": {},
   "outputs": [
    {
     "data": {
      "image/png": "[encoded data removed]",
      "text/plain": [
       "<Figure size 432x288 with 1 Axes>"
      ]
     },
     "metadata": {
      "needs_background": "light"
     },
     "output_type": "display_data"
    }
   ],
   "source": [
    "plt.plot(res, time, 'ro')\n",
    "plt.xlabel('Resolution [m]')\n",
    "plt.ylabel('Time [ns]')\n",
    "plt.title('Calculation Time vs Resolution')\n",
    "plt.show()"
   ]
  },
  {
   "cell_type": "code",
   "execution_count": null,
   "metadata": {},
   "outputs": [],
   "source": []
  },
  {
   "cell_type": "code",
   "execution_count": null,
   "metadata": {},
   "outputs": [],
   "source": []
  },
  {
   "cell_type": "code",
   "execution_count": null,
   "metadata": {},
   "outputs": [],
   "source": []
  }
 ],
 "metadata": {
  "kernelspec": {
   "display_name": "Python 3",
   "language": "python",
   "name": "python3"
  },
  "language_info": {
   "codemirror_mode": {
    "name": "ipython",
    "version": 3
   },
   "file_extension": ".py",
   "mimetype": "text/x-python",
   "name": "python",
   "nbconvert_exporter": "python",
   "pygments_lexer": "ipython3",
   "version": "3.7.3"
  }
 },
 "nbformat": 4,
 "nbformat_minor": 4
}
